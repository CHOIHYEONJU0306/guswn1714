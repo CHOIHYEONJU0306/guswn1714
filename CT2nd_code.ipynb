{
  "nbformat": 4,
  "nbformat_minor": 0,
  "metadata": {
    "colab": {
      "provenance": [],
      "authorship_tag": "ABX9TyPUs/0n09V3EtxIkEb+ANxY"
    },
    "kernelspec": {
      "name": "python3",
      "display_name": "Python 3"
    },
    "language_info": {
      "name": "python"
    }
  },
  "cells": [
    {
      "cell_type": "markdown",
      "source": [
        "2번째 코딩\n",
        "- 사용자로부터 3개의 값을 받아서 합을 내고\n",
        "평균을 출력하는 코드"
      ],
      "metadata": {
        "id": "Oxsxdl5DKcMN"
      }
    },
    {
      "cell_type": "code",
      "execution_count": 2,
      "metadata": {
        "colab": {
          "base_uri": "https://localhost:8080/"
        },
        "id": "wgwTPDWtGxzT",
        "outputId": "cc9ce295-46f0-4f8f-b331-497fe0dbb951"
      },
      "outputs": [
        {
          "output_type": "stream",
          "name": "stdout",
          "text": [
            "n1의 값을 입력하시오.40\n",
            "n2의 값을 입력하시오.50\n",
            "n3의 값을 입력하시오.60\n",
            "50.0\n"
          ]
        }
      ],
      "source": [
        "n1=int(input(\"n1의 값을 입력하시오.\"))\n",
        "n2=int(input(\"n2의 값을 입력하시오.\"))\n",
        "n3=int(input(\"n3의 값을 입력하시오.\"))\n",
        "total=n1+n2+n3\n",
        "average=total/3\n",
        "print(average)"
      ]
    },
    {
      "cell_type": "markdown",
      "source": [],
      "metadata": {
        "id": "0SPqrOsyNZM1"
      }
    }
  ]
}