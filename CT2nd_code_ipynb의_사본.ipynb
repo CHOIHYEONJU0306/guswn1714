{
  "nbformat": 4,
  "nbformat_minor": 0,
  "metadata": {
    "colab": {
      "provenance": [],
      "authorship_tag": "ABX9TyM7pd2VvA7DjPC6WSJzHigM",
      "include_colab_link": true
    },
    "kernelspec": {
      "name": "python3",
      "display_name": "Python 3"
    },
    "language_info": {
      "name": "python"
    }
  },
  "cells": [
    {
      "cell_type": "markdown",
      "metadata": {
        "id": "view-in-github",
        "colab_type": "text"
      },
      "source": [
        "<a href=\"https://colab.research.google.com/github/CHOIHYEONJU0306/guswn1714/blob/main/CT2nd_code_ipynb%EC%9D%98_%EC%82%AC%EB%B3%B8.ipynb\" target=\"_parent\"><img src=\"https://colab.research.google.com/assets/colab-badge.svg\" alt=\"Open In Colab\"/></a>"
      ]
    },
    {
      "cell_type": "markdown",
      "source": [
        "2번째 코딩\n",
        "- 사용자로부터 3개의 값을 받아서 합을 내고\n",
        "평균을 출력하는 코드"
      ],
      "metadata": {
        "id": "Oxsxdl5DKcMN"
      }
    },
    {
      "cell_type": "code",
      "execution_count": null,
      "metadata": {
        "colab": {
          "base_uri": "https://localhost:8080/"
        },
        "id": "wgwTPDWtGxzT",
        "outputId": "cc9ce295-46f0-4f8f-b331-497fe0dbb951"
      },
      "outputs": [
        {
          "output_type": "stream",
          "name": "stdout",
          "text": [
            "n1의 값을 입력하시오.40\n",
            "n2의 값을 입력하시오.50\n",
            "n3의 값을 입력하시오.60\n",
            "50.0\n"
          ]
        }
      ],
      "source": [
        "n1=int(input(\"n1의 값을 입력하시오.\"))    #int문에input을 이용하여 사용자에게 값을 입력받는 문장을 출력\n",
        "n2=int(input(\"n2의 값을 입력하시오.\"))    #int문에input을 이용하여 사용자에게 값을 입력받는 문장을 출력\n",
        "n3=int(input(\"n3의 값을 입력하시오.\"))    #int문에input을 이용하여 사용자에게 값을 입력받는 문장을 출력\n",
        "total=n1+n2+n3                            #total값을 입력\n",
        "average=total/3                           #average를 이용하여 평균을 구함\n",
        "print(average)                            #print를 이용하여 평균값을 출력"
      ]
    },
    {
      "cell_type": "markdown",
      "source": [],
      "metadata": {
        "id": "0SPqrOsyNZM1"
      }
    }
  ]
}